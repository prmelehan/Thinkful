{
 "cells": [
  {
   "cell_type": "markdown",
   "metadata": {},
   "source": [
    "# Bayes' Rule"
   ]
  },
  {
   "cell_type": "markdown",
   "metadata": {},
   "source": [
    "Diagnostic test has 98% probability of yielding positive result when applied to a person suffering from Thripshaw's Disease, and 10% probability of giving a false positive when applied to a non-sufferer. It is estimated that 0.5% of the populations suffer from Thripshaw's Disease. The test is applied to a person who's Thripshaw status is **unknown**\n",
    "\n",
    "**Problems:**\n",
    "\n",
    "$ T = Test \\ was \\ positive $\n",
    "\n",
    "$ S = Sufferer \\ of \\ Disease $\n",
    "\n",
    "| State 1 | State 2 | State 3 | State 4 |\n",
    "|---------|---------|---------|---------|\n",
    "| TS | TS' | T'S' | T'S |\n",
    "| 0.98 | 0.1 | 0.9 | 0.02 |\n",
    "\n",
    "\n",
    "1. Probability that test is positive\n",
    "\n",
    "$ P(T) = (0.05 * 0.98) + (0.1 * 0.995) = 0.1485 $\n",
    "\n",
    "Probability that the test is positive is the probability that the test is positive when applied to actual disease patients, plus the probability of the test being false positive when applied to all non-patients.\n",
    "\n",
    "2. Probability that it correctly diagnoses a sufferer of Thripshaw's Disease\n",
    "\n",
    "\n",
    "$ P(S \\mid T) = 0.98 $\n",
    "\n",
    "This is just equal to the probability that the person was correctly identified as having Thrimpshaw's Disease\n",
    "\n",
    "\n",
    "3. Probability that it correctly diagnoses a non-sufferer of Thripshaw's Disease\n",
    "\n",
    "$ P(S' \\mid T') = 0.9 $\n",
    "\n",
    "\n",
    "\n",
    "4. Misclassify someone who doesn't have the disease\n",
    "\n",
    "$ P(S' \\mid T) = 1 - ((0.98*0.005) + (0.9*0.995)) = 0.0996 $"
   ]
  },
  {
   "cell_type": "code",
   "execution_count": null,
   "metadata": {},
   "outputs": [],
   "source": []
  }
 ],
 "metadata": {
  "kernelspec": {
   "display_name": "Python 3",
   "language": "python",
   "name": "python3"
  },
  "language_info": {
   "codemirror_mode": {
    "name": "ipython",
    "version": 3
   },
   "file_extension": ".py",
   "mimetype": "text/x-python",
   "name": "python",
   "nbconvert_exporter": "python",
   "pygments_lexer": "ipython3",
   "version": "3.6.6"
  }
 },
 "nbformat": 4,
 "nbformat_minor": 2
}
