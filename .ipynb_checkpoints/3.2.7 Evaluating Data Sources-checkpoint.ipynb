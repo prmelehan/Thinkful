{
 "cells": [
  {
   "cell_type": "markdown",
   "metadata": {},
   "source": [
    "# Evaluating Data Sources\n",
    "\n",
    "\n",
    "\n",
    "1. For this data set, the neighboorhoods will be scewed because it is the day before christmas. We can adjust this data set by comparing this data against data from other dates as well. We would get a spike around christmas, but that could be averaged out with all the other data.\n",
    "\n",
    "2. The patterns of mental health are scewed here because the date is September 12, 2001, the day after two planes flew into buildings, killing thousands. Obviously New York City will have many many more people admitting themselves to hospitals, etc. To account for this, include more data from other dates and years, before and after 9/11.\n",
    "\n",
    "3. The most common reason that Armenian's visit pubs is because they're all kids / students in college. This is skewed by age. To fix this, add other towns or regions, or add more age groups as well. \n",
    "\n",
    "\n"
   ]
  },
  {
   "cell_type": "code",
   "execution_count": null,
   "metadata": {},
   "outputs": [],
   "source": []
  }
 ],
 "metadata": {
  "kernelspec": {
   "display_name": "Python 3",
   "language": "python",
   "name": "python3"
  },
  "language_info": {
   "codemirror_mode": {
    "name": "ipython",
    "version": 3
   },
   "file_extension": ".py",
   "mimetype": "text/x-python",
   "name": "python",
   "nbconvert_exporter": "python",
   "pygments_lexer": "ipython3",
   "version": "3.6.6"
  }
 },
 "nbformat": 4,
 "nbformat_minor": 2
}
