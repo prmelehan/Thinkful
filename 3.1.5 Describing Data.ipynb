{
 "cells": [
  {
   "cell_type": "markdown",
   "metadata": {},
   "source": [
    "## Describing Data using Statistics"
   ]
  },
  {
   "cell_type": "markdown",
   "metadata": {},
   "source": [
    "First, I'd like to compile a list of users into a dataframe so that I can easily reference their values. Even though I am using a data frame, I will still do this the long way, and calculate the values manually."
   ]
  },
  {
   "cell_type": "code",
   "execution_count": 1,
   "metadata": {},
   "outputs": [],
   "source": [
    "# import dependencies\n",
    "import pandas as pd"
   ]
  },
  {
   "cell_type": "code",
   "execution_count": 2,
   "metadata": {},
   "outputs": [],
   "source": [
    "df = pd.DataFrame()\n",
    "\n",
    "df[\"name\"] = [\"Greg\", \"Marcia\", \"Peter\", \"Jan\", \"Bobby\", \"Cindy\", \"Oliver\"]\n",
    "df[\"age\"] = [14, 12, 10, 11, 8, 6, 8]"
   ]
  },
  {
   "cell_type": "code",
   "execution_count": 3,
   "metadata": {},
   "outputs": [
    {
     "data": {
      "text/html": [
       "<div>\n",
       "<style scoped>\n",
       "    .dataframe tbody tr th:only-of-type {\n",
       "        vertical-align: middle;\n",
       "    }\n",
       "\n",
       "    .dataframe tbody tr th {\n",
       "        vertical-align: top;\n",
       "    }\n",
       "\n",
       "    .dataframe thead th {\n",
       "        text-align: right;\n",
       "    }\n",
       "</style>\n",
       "<table border=\"1\" class=\"dataframe\">\n",
       "  <thead>\n",
       "    <tr style=\"text-align: right;\">\n",
       "      <th></th>\n",
       "      <th>name</th>\n",
       "      <th>age</th>\n",
       "    </tr>\n",
       "  </thead>\n",
       "  <tbody>\n",
       "    <tr>\n",
       "      <th>0</th>\n",
       "      <td>Greg</td>\n",
       "      <td>14</td>\n",
       "    </tr>\n",
       "    <tr>\n",
       "      <th>1</th>\n",
       "      <td>Marcia</td>\n",
       "      <td>12</td>\n",
       "    </tr>\n",
       "    <tr>\n",
       "      <th>2</th>\n",
       "      <td>Peter</td>\n",
       "      <td>10</td>\n",
       "    </tr>\n",
       "    <tr>\n",
       "      <th>3</th>\n",
       "      <td>Jan</td>\n",
       "      <td>11</td>\n",
       "    </tr>\n",
       "    <tr>\n",
       "      <th>4</th>\n",
       "      <td>Bobby</td>\n",
       "      <td>8</td>\n",
       "    </tr>\n",
       "    <tr>\n",
       "      <th>5</th>\n",
       "      <td>Cindy</td>\n",
       "      <td>6</td>\n",
       "    </tr>\n",
       "    <tr>\n",
       "      <th>6</th>\n",
       "      <td>Oliver</td>\n",
       "      <td>8</td>\n",
       "    </tr>\n",
       "  </tbody>\n",
       "</table>\n",
       "</div>"
      ],
      "text/plain": [
       "     name  age\n",
       "0    Greg   14\n",
       "1  Marcia   12\n",
       "2   Peter   10\n",
       "3     Jan   11\n",
       "4   Bobby    8\n",
       "5   Cindy    6\n",
       "6  Oliver    8"
      ]
     },
     "execution_count": 3,
     "metadata": {},
     "output_type": "execute_result"
    }
   ],
   "source": [
    "df"
   ]
  },
  {
   "cell_type": "markdown",
   "metadata": {},
   "source": [
    "### Compute Statistics\n",
    "\n",
    "Now I want to compute some values. I'll calculate the `mean`, `median`, `mode` as well as the `variance`, `standard deviation` and `standard error`.\n",
    "\n",
    "\n",
    "First I will do this by hand, and then just use the built-ins for convenience.\n",
    "\n",
    "#### Mean:\n",
    "\n",
    "The sum of all the data points, divided by the number of data points\n",
    "```python\n",
    "mean = (14 + 12 + 10 + 11 + 8 + 6 + 8) / 7\n",
    "\n",
    "mean = 9.86\n",
    "```\n",
    "\n",
    "$$ \\bar x = \\dfrac{\\sum{x}}n $$\n",
    "\n",
    "\n",
    "#### Median:\n",
    "\n",
    "The middle value of the sorted data points.\n",
    "```python\n",
    "median = middle of [6, 8, 8, 10, 11, 12, 14]\n",
    "\n",
    "median = 10\n",
    "```\n",
    "\n",
    "\n",
    "#### Mode:\n",
    "\n",
    "The most frequently occuring data point in a population\n",
    "\n",
    "```python\n",
    "mode = most frequent of [6, 8, 8, 10, 11, 12, 14]\n",
    "mode = 8\n",
    "```\n",
    "\n",
    "#### Variance\n",
    "\n",
    "The \"spread\" of the data.\n",
    "~~~python\n",
    "# v = sum((x - mean) ** 2) / (n - 1)\n",
    "\n",
    "v = sum(((x - mean)**2 for x in df[\"age\"]) / (len(df[\"age\"] - 1)\n",
    "\n",
    "~~~\n",
    "Sample Variance\n",
    "\n",
    "$$ \\sigma^2 = \\dfrac{\\sum{(x - \\bar x^2)}}n $$\n",
    "\n",
    "#### Standard Deviation\n",
    "\n",
    "Used to measure how far apart values are from the group\n",
    "\n",
    "```python\n",
    "s = v ** 0.5\n",
    "\n",
    "```\n",
    "$$ \\sigma = \\sqrt{\\sigma^2}$$\n",
    "\n",
    "\n",
    "#### Standard Error\n",
    "\n",
    "Used to measure the uncertainty in the estimate of the sample mean. This can help in understanding error when estimating a population using a sample.\n",
    "\n",
    "```python\n",
    "\n",
    "se = s / (n ** 0.5)\n",
    "\n",
    "```\n",
    "\n",
    "\n",
    "$$ SE = \\dfrac{\\sigma}{\\sqrt{n}} $$\n"
   ]
  },
  {
   "cell_type": "markdown",
   "metadata": {},
   "source": [
    "### Deciding what estimate of Central Tendency to use\n",
    "\n",
    "Based on the `mean: 9.86` and the `median: 10`, it seems pretty safe to go with the `mean` (or average) of the dataset as the `mean` and `median` are very close in value. I'm choosing the mean because it doesn't seem to have any side-effects given the current dataset."
   ]
  },
  {
   "cell_type": "markdown",
   "metadata": {},
   "source": [
    "### Calculations\n",
    "\n",
    "Below I will preform the actual calculations using pandas"
   ]
  },
  {
   "cell_type": "code",
   "execution_count": 4,
   "metadata": {},
   "outputs": [
    {
     "name": "stdout",
     "output_type": "stream",
     "text": [
      "Sample Statistics:\n",
      "Mean: 9.857142857142858\n",
      "Median: 10.0\n",
      "Mode: 0    8\n",
      "dtype: int64\n",
      "Variance: 7.476190476190475\n",
      "Standard Deviation: 2.734262327610589\n",
      "Standard Error: 1.0334540197243192\n"
     ]
    }
   ],
   "source": [
    "def compute_statistics(values: pd.DataFrame):\n",
    "    print(\"Sample Statistics:\")\n",
    "\n",
    "    mean = values.mean()\n",
    "    print(\"Mean: {}\".format(mean))\n",
    "\n",
    "    median = values.median()\n",
    "    print(\"Median: {}\".format(median))\n",
    "\n",
    "    mode = values.mode()\n",
    "    print(\"Mode: {}\".format(mode))\n",
    "\n",
    "    variance = values.var(ddof=1)\n",
    "    print(\"Variance: {}\".format(variance))\n",
    "\n",
    "    standard_deviation = values.std(ddof=1)\n",
    "    print(\"Standard Deviation: {}\".format(standard_deviation))\n",
    "\n",
    "    standard_error = values.sem(ddof=1)\n",
    "    print(\"Standard Error: {}\".format(standard_error))\n",
    "\n",
    "compute_statistics(df[\"age\"])"
   ]
  },
  {
   "cell_type": "markdown",
   "metadata": {},
   "source": [
    "#### Cindy has a birthday"
   ]
  },
  {
   "cell_type": "code",
   "execution_count": 5,
   "metadata": {},
   "outputs": [],
   "source": [
    "# index 5 is Cindy, this is pretty hacky\n",
    "df.at[5, \"age\"] += 1"
   ]
  },
  {
   "cell_type": "code",
   "execution_count": 6,
   "metadata": {
    "scrolled": true
   },
   "outputs": [
    {
     "data": {
      "text/html": [
       "<div>\n",
       "<style scoped>\n",
       "    .dataframe tbody tr th:only-of-type {\n",
       "        vertical-align: middle;\n",
       "    }\n",
       "\n",
       "    .dataframe tbody tr th {\n",
       "        vertical-align: top;\n",
       "    }\n",
       "\n",
       "    .dataframe thead th {\n",
       "        text-align: right;\n",
       "    }\n",
       "</style>\n",
       "<table border=\"1\" class=\"dataframe\">\n",
       "  <thead>\n",
       "    <tr style=\"text-align: right;\">\n",
       "      <th></th>\n",
       "      <th>name</th>\n",
       "      <th>age</th>\n",
       "    </tr>\n",
       "  </thead>\n",
       "  <tbody>\n",
       "    <tr>\n",
       "      <th>0</th>\n",
       "      <td>Greg</td>\n",
       "      <td>14</td>\n",
       "    </tr>\n",
       "    <tr>\n",
       "      <th>1</th>\n",
       "      <td>Marcia</td>\n",
       "      <td>12</td>\n",
       "    </tr>\n",
       "    <tr>\n",
       "      <th>2</th>\n",
       "      <td>Peter</td>\n",
       "      <td>10</td>\n",
       "    </tr>\n",
       "    <tr>\n",
       "      <th>3</th>\n",
       "      <td>Jan</td>\n",
       "      <td>11</td>\n",
       "    </tr>\n",
       "    <tr>\n",
       "      <th>4</th>\n",
       "      <td>Bobby</td>\n",
       "      <td>8</td>\n",
       "    </tr>\n",
       "    <tr>\n",
       "      <th>5</th>\n",
       "      <td>Cindy</td>\n",
       "      <td>7</td>\n",
       "    </tr>\n",
       "    <tr>\n",
       "      <th>6</th>\n",
       "      <td>Oliver</td>\n",
       "      <td>8</td>\n",
       "    </tr>\n",
       "  </tbody>\n",
       "</table>\n",
       "</div>"
      ],
      "text/plain": [
       "     name  age\n",
       "0    Greg   14\n",
       "1  Marcia   12\n",
       "2   Peter   10\n",
       "3     Jan   11\n",
       "4   Bobby    8\n",
       "5   Cindy    7\n",
       "6  Oliver    8"
      ]
     },
     "execution_count": 6,
     "metadata": {},
     "output_type": "execute_result"
    }
   ],
   "source": [
    "df"
   ]
  },
  {
   "cell_type": "code",
   "execution_count": 7,
   "metadata": {},
   "outputs": [
    {
     "name": "stdout",
     "output_type": "stream",
     "text": [
      "Sample Statistics:\n",
      "Mean: 10.0\n",
      "Median: 10.0\n",
      "Mode: 0    8\n",
      "dtype: int64\n",
      "Variance: 6.333333333333333\n",
      "Standard Deviation: 2.516611478423583\n",
      "Standard Error: 0.9511897312113418\n"
     ]
    }
   ],
   "source": [
    "compute_statistics(df[\"age\"])"
   ]
  },
  {
   "cell_type": "markdown",
   "metadata": {},
   "source": [
    "This change moves the mean, variance, standard deviation, but keeps the median and mode the same. The mode is the same by chance, same with median"
   ]
  },
  {
   "cell_type": "markdown",
   "metadata": {},
   "source": [
    "### Boot Oliver, bring in Jessica\n",
    "Oliver wasn't doing well, so Jessica needs to come in. Let's see the difference."
   ]
  },
  {
   "cell_type": "code",
   "execution_count": 8,
   "metadata": {},
   "outputs": [],
   "source": [
    "df.at[0, \"name\"] = \"Jessica\"\n",
    "df.at[0, \"age\"] = 1"
   ]
  },
  {
   "cell_type": "code",
   "execution_count": 9,
   "metadata": {},
   "outputs": [
    {
     "name": "stdout",
     "output_type": "stream",
     "text": [
      "Sample Statistics:\n",
      "Mean: 8.142857142857142\n",
      "Median: 8.0\n",
      "Mode: 0    8\n",
      "dtype: int64\n",
      "Variance: 13.14285714285714\n",
      "Standard Deviation: 3.6253078686998625\n",
      "Standard Error: 1.3702375780893483\n"
     ]
    }
   ],
   "source": [
    "compute_statistics(df[\"age\"])"
   ]
  },
  {
   "cell_type": "markdown",
   "metadata": {},
   "source": [
    "Almost everything was changed. Re-order caused the median to change, lower value caused the mean to change, mode was the same. Variance changed due to low value, meaning `std` and `se` also changed due to that low value"
   ]
  },
  {
   "cell_type": "code",
   "execution_count": 12,
   "metadata": {},
   "outputs": [],
   "source": [
    "ratings_df = pd.DataFrame()\n",
    "\n",
    "ratings_df[\"poll\"] = [\"TV Guide\", \"Entertainment Weekly\", \"Pop Culture Today\", \"SciPhi Phanatic\"]\n",
    "ratings_df[\"percentage\"] = [0.2, 0.23, 0.17, 0.05]"
   ]
  },
  {
   "cell_type": "code",
   "execution_count": 13,
   "metadata": {
    "scrolled": true
   },
   "outputs": [
    {
     "name": "stdout",
     "output_type": "stream",
     "text": [
      "Sample Statistics:\n",
      "Mean: 0.16250000000000003\n",
      "Median: 0.185\n",
      "Mode: 0    0.05\n",
      "1    0.17\n",
      "2    0.20\n",
      "3    0.23\n",
      "dtype: float64\n",
      "Variance: 0.0062250000000000005\n",
      "Standard Deviation: 0.0788986691902975\n",
      "Standard Error: 0.03944933459514875\n"
     ]
    }
   ],
   "source": [
    "# compute the metrics for the ratings\n",
    "compute_statistics(ratings_df[\"percentage\"])"
   ]
  },
  {
   "cell_type": "markdown",
   "metadata": {},
   "source": [
    "Lets use the mean"
   ]
  },
  {
   "cell_type": "code",
   "execution_count": 14,
   "metadata": {},
   "outputs": [
    {
     "name": "stdout",
     "output_type": "stream",
     "text": [
      "52926250.0 people approve of the Brady Bunch\n"
     ]
    }
   ],
   "source": [
    "# people who like Brady bunch\n",
    "# 16.25%\n",
    "brady_bunch_approvers = 325700000 * 0.1625\n",
    "print(\"{} people approve of the Brady Bunch\".format(brady_bunch_approvers))"
   ]
  },
  {
   "cell_type": "code",
   "execution_count": null,
   "metadata": {},
   "outputs": [],
   "source": []
  }
 ],
 "metadata": {
  "kernelspec": {
   "display_name": "Python 3",
   "language": "python",
   "name": "python3"
  },
  "language_info": {
   "codemirror_mode": {
    "name": "ipython",
    "version": 3
   },
   "file_extension": ".py",
   "mimetype": "text/x-python",
   "name": "python",
   "nbconvert_exporter": "python",
   "pygments_lexer": "ipython3",
   "version": "3.6.6"
  }
 },
 "nbformat": 4,
 "nbformat_minor": 2
}
