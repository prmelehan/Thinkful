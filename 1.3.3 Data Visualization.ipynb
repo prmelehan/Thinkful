{
 "cells": [
  {
   "cell_type": "code",
   "execution_count": 16,
   "metadata": {},
   "outputs": [],
   "source": [
    "# dependencies\n",
    "import pandas as pd\n",
    "import matplotlib.pyplot as plt\n",
    "import seaborn as sns\n",
    "import numpy as np\n",
    "from sklearn.datasets import load_boston"
   ]
  },
  {
   "cell_type": "code",
   "execution_count": 17,
   "metadata": {},
   "outputs": [],
   "source": [
    "%matplotlib inline"
   ]
  },
  {
   "cell_type": "code",
   "execution_count": 8,
   "metadata": {},
   "outputs": [],
   "source": [
    "df = pd.read_csv(\"data/presidential-campaign-finance/expenditures.csv\")"
   ]
  },
  {
   "cell_type": "code",
   "execution_count": 9,
   "metadata": {},
   "outputs": [
    {
     "data": {
      "text/html": [
       "<div>\n",
       "<style scoped>\n",
       "    .dataframe tbody tr th:only-of-type {\n",
       "        vertical-align: middle;\n",
       "    }\n",
       "\n",
       "    .dataframe tbody tr th {\n",
       "        vertical-align: top;\n",
       "    }\n",
       "\n",
       "    .dataframe thead th {\n",
       "        text-align: right;\n",
       "    }\n",
       "</style>\n",
       "<table border=\"1\" class=\"dataframe\">\n",
       "  <thead>\n",
       "    <tr style=\"text-align: right;\">\n",
       "      <th></th>\n",
       "      <th>committee_id</th>\n",
       "      <th>candidate_id</th>\n",
       "      <th>candidate_name</th>\n",
       "      <th>recipient_name</th>\n",
       "      <th>disbursement_amount</th>\n",
       "      <th>disbursement_date</th>\n",
       "      <th>recipient_city</th>\n",
       "      <th>recipient_state</th>\n",
       "      <th>recipient_zipcode</th>\n",
       "      <th>disbursement_desc</th>\n",
       "      <th>memo_code</th>\n",
       "      <th>memo_text</th>\n",
       "      <th>form_type</th>\n",
       "      <th>file_number</th>\n",
       "      <th>transaction_id</th>\n",
       "      <th>election_type</th>\n",
       "    </tr>\n",
       "  </thead>\n",
       "  <tbody>\n",
       "    <tr>\n",
       "      <th>0</th>\n",
       "      <td>C00458844</td>\n",
       "      <td>P60006723</td>\n",
       "      <td>RUBIO, MARCO</td>\n",
       "      <td>GREEN, PERRY MR.</td>\n",
       "      <td>500.00</td>\n",
       "      <td>15-Sep-15</td>\n",
       "      <td>ANCHORAGE</td>\n",
       "      <td>AK</td>\n",
       "      <td>995084442</td>\n",
       "      <td>IN-KIND CONTRIBUTION</td>\n",
       "      <td>NaN</td>\n",
       "      <td>IN KIND: FACILITY RENTAL</td>\n",
       "      <td>SB23</td>\n",
       "      <td>1031526</td>\n",
       "      <td>SB23.831217</td>\n",
       "      <td>P2016</td>\n",
       "    </tr>\n",
       "    <tr>\n",
       "      <th>1</th>\n",
       "      <td>C00458844</td>\n",
       "      <td>P60006723</td>\n",
       "      <td>RUBIO, MARCO</td>\n",
       "      <td>ALASKA REPUBLICAN PARTY</td>\n",
       "      <td>2500.00</td>\n",
       "      <td>16-Nov-15</td>\n",
       "      <td>ANCHORAGE</td>\n",
       "      <td>AK</td>\n",
       "      <td>99503</td>\n",
       "      <td>BALLOT ACCESS</td>\n",
       "      <td>NaN</td>\n",
       "      <td>NaN</td>\n",
       "      <td>SB23</td>\n",
       "      <td>1047126</td>\n",
       "      <td>SB23.I14767</td>\n",
       "      <td>NaN</td>\n",
       "    </tr>\n",
       "    <tr>\n",
       "      <th>2</th>\n",
       "      <td>C00458844</td>\n",
       "      <td>P60006723</td>\n",
       "      <td>RUBIO, MARCO</td>\n",
       "      <td>JOHNSON, MARK</td>\n",
       "      <td>1000.00</td>\n",
       "      <td>30-Sep-15</td>\n",
       "      <td>ANCHORAGE</td>\n",
       "      <td>AK</td>\n",
       "      <td>995163436</td>\n",
       "      <td>IN-KIND CONTRIBUTION</td>\n",
       "      <td>NaN</td>\n",
       "      <td>IN KIND: BUMPER STICKERS SIGNS AND BUTTONS</td>\n",
       "      <td>SB23</td>\n",
       "      <td>1031526</td>\n",
       "      <td>SB23.831218</td>\n",
       "      <td>P2016</td>\n",
       "    </tr>\n",
       "    <tr>\n",
       "      <th>3</th>\n",
       "      <td>C00458844</td>\n",
       "      <td>P60006723</td>\n",
       "      <td>RUBIO, MARCO</td>\n",
       "      <td>ENTERPRISE</td>\n",
       "      <td>336.09</td>\n",
       "      <td>18-Dec-15</td>\n",
       "      <td>BIRMINGHAM</td>\n",
       "      <td>AL</td>\n",
       "      <td>352124572</td>\n",
       "      <td>CAR RENTAL</td>\n",
       "      <td>X</td>\n",
       "      <td>NaN</td>\n",
       "      <td>SB23</td>\n",
       "      <td>1047126</td>\n",
       "      <td>SB23.I15112</td>\n",
       "      <td>NaN</td>\n",
       "    </tr>\n",
       "    <tr>\n",
       "      <th>4</th>\n",
       "      <td>C00458844</td>\n",
       "      <td>P60006723</td>\n",
       "      <td>RUBIO, MARCO</td>\n",
       "      <td>U.S. SPACE AND ROCKET CENTER</td>\n",
       "      <td>2000.00</td>\n",
       "      <td>7-Apr-16</td>\n",
       "      <td>HUNTSVILLE</td>\n",
       "      <td>AL</td>\n",
       "      <td>35805</td>\n",
       "      <td>SITE RENTAL</td>\n",
       "      <td>NaN</td>\n",
       "      <td>NaN</td>\n",
       "      <td>SB23</td>\n",
       "      <td>1073515</td>\n",
       "      <td>SB23.4226</td>\n",
       "      <td>P2016</td>\n",
       "    </tr>\n",
       "  </tbody>\n",
       "</table>\n",
       "</div>"
      ],
      "text/plain": [
       "  committee_id candidate_id candidate_name                recipient_name  \\\n",
       "0    C00458844    P60006723   RUBIO, MARCO              GREEN, PERRY MR.   \n",
       "1    C00458844    P60006723   RUBIO, MARCO       ALASKA REPUBLICAN PARTY   \n",
       "2    C00458844    P60006723   RUBIO, MARCO                 JOHNSON, MARK   \n",
       "3    C00458844    P60006723   RUBIO, MARCO                    ENTERPRISE   \n",
       "4    C00458844    P60006723   RUBIO, MARCO  U.S. SPACE AND ROCKET CENTER   \n",
       "\n",
       "   disbursement_amount disbursement_date recipient_city recipient_state  \\\n",
       "0               500.00         15-Sep-15      ANCHORAGE              AK   \n",
       "1              2500.00         16-Nov-15      ANCHORAGE              AK   \n",
       "2              1000.00         30-Sep-15      ANCHORAGE              AK   \n",
       "3               336.09         18-Dec-15     BIRMINGHAM              AL   \n",
       "4              2000.00          7-Apr-16     HUNTSVILLE              AL   \n",
       "\n",
       "  recipient_zipcode     disbursement_desc memo_code  \\\n",
       "0         995084442  IN-KIND CONTRIBUTION       NaN   \n",
       "1             99503         BALLOT ACCESS       NaN   \n",
       "2         995163436  IN-KIND CONTRIBUTION       NaN   \n",
       "3         352124572            CAR RENTAL         X   \n",
       "4             35805           SITE RENTAL       NaN   \n",
       "\n",
       "                                    memo_text form_type  file_number  \\\n",
       "0                    IN KIND: FACILITY RENTAL      SB23      1031526   \n",
       "1                                         NaN      SB23      1047126   \n",
       "2  IN KIND: BUMPER STICKERS SIGNS AND BUTTONS      SB23      1031526   \n",
       "3                                         NaN      SB23      1047126   \n",
       "4                                         NaN      SB23      1073515   \n",
       "\n",
       "  transaction_id election_type  \n",
       "0    SB23.831217         P2016  \n",
       "1    SB23.I14767           NaN  \n",
       "2    SB23.831218         P2016  \n",
       "3    SB23.I15112           NaN  \n",
       "4      SB23.4226         P2016  "
      ]
     },
     "execution_count": 9,
     "metadata": {},
     "output_type": "execute_result"
    }
   ],
   "source": [
    "df.head()"
   ]
  },
  {
   "cell_type": "code",
   "execution_count": 11,
   "metadata": {},
   "outputs": [
    {
     "data": {
      "text/plain": [
       "(65499, 16)"
      ]
     },
     "execution_count": 11,
     "metadata": {},
     "output_type": "execute_result"
    }
   ],
   "source": [
    "df.shape"
   ]
  },
  {
   "cell_type": "code",
   "execution_count": 12,
   "metadata": {},
   "outputs": [],
   "source": [
    "# plot the candidate name 4 different ways"
   ]
  },
  {
   "cell_type": "code",
   "execution_count": 13,
   "metadata": {},
   "outputs": [],
   "source": [
    "counts = df.candidate_name.value_counts()"
   ]
  },
  {
   "cell_type": "code",
   "execution_count": 21,
   "metadata": {},
   "outputs": [
    {
     "data": {
      "image/png": "[encoded data removed]",
      "text/plain": [
       "<matplotlib.figure.Figure at 0x11dc6c898>"
      ]
     },
     "metadata": {},
     "output_type": "display_data"
    }
   ],
   "source": [
    "_ = plt.pie(counts, labels=counts.index)"
   ]
  },
  {
   "cell_type": "code",
   "execution_count": 24,
   "metadata": {},
   "outputs": [],
   "source": [
    "counts_df = counts.to_frame(name=\"count\")"
   ]
  },
  {
   "cell_type": "code",
   "execution_count": 28,
   "metadata": {},
   "outputs": [],
   "source": [
    "counts_df = counts_df.reset_index()"
   ]
  },
  {
   "cell_type": "code",
   "execution_count": 39,
   "metadata": {},
   "outputs": [],
   "source": [
    "counts_df.rename(columns={\"index\": \"name\", \"count\": \"num donations\"}, inplace=True)"
   ]
  },
  {
   "cell_type": "code",
   "execution_count": 41,
   "metadata": {},
   "outputs": [
    {
     "data": {
      "image/png": "[encoded data removed]",
      "text/plain": [
       "<matplotlib.figure.Figure at 0x11c0f3d68>"
      ]
     },
     "metadata": {},
     "output_type": "display_data"
    }
   ],
   "source": [
    "g = sns.barplot(x=\"name\", y=\"num donations\", data=counts_df)\n",
    "for item in g.get_xticklabels():\n",
    "    item.set_rotation(90)"
   ]
  },
  {
   "cell_type": "code",
   "execution_count": null,
   "metadata": {},
   "outputs": [],
   "source": []
  }
 ],
 "metadata": {
  "kernelspec": {
   "display_name": "Python 3",
   "language": "python",
   "name": "python3"
  },
  "language_info": {
   "codemirror_mode": {
    "name": "ipython",
    "version": 3
   },
   "file_extension": ".py",
   "mimetype": "text/x-python",
   "name": "python",
   "nbconvert_exporter": "python",
   "pygments_lexer": "ipython3",
   "version": "3.6.6"
  }
 },
 "nbformat": 4,
 "nbformat_minor": 2
}
