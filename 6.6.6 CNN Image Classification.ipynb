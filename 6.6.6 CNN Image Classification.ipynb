{
 "cells": [
  {
   "cell_type": "markdown",
   "metadata": {},
   "source": [
    "# Image Classification: Malaria"
   ]
  },
  {
   "cell_type": "code",
   "execution_count": 13,
   "metadata": {},
   "outputs": [],
   "source": [
    "from keras.models import Sequential\n",
    "from keras.layers import Dense, Conv2D, MaxPooling2D, Flatten, Activation, Dropout\n",
    "from keras.optimizers import adadelta"
   ]
  },
  {
   "cell_type": "markdown",
   "metadata": {},
   "source": [
    "### Data Import / Preparation"
   ]
  },
  {
   "cell_type": "code",
   "execution_count": 2,
   "metadata": {},
   "outputs": [],
   "source": [
    "from keras.preprocessing.image import ImageDataGenerator"
   ]
  },
  {
   "cell_type": "code",
   "execution_count": 3,
   "metadata": {},
   "outputs": [],
   "source": [
    "datagen = ImageDataGenerator(\n",
    "        rescale=1./255,\n",
    "        shear_range=0.2,\n",
    "        zoom_range=0.2,\n",
    "        horizontal_flip=True,\n",
    "        validation_split=0.2)"
   ]
  },
  {
   "cell_type": "code",
   "execution_count": 4,
   "metadata": {},
   "outputs": [
    {
     "name": "stdout",
     "output_type": "stream",
     "text": [
      "Found 27558 images belonging to 2 classes.\n"
     ]
    }
   ],
   "source": [
    "train_generator = datagen.flow_from_directory(\n",
    "        'data/malaria-images',\n",
    "        target_size=(110, 110),\n",
    "        batch_size=32,\n",
    "        class_mode='binary')"
   ]
  },
  {
   "cell_type": "code",
   "execution_count": 5,
   "metadata": {},
   "outputs": [
    {
     "name": "stdout",
     "output_type": "stream",
     "text": [
      "Found 5510 images belonging to 2 classes.\n"
     ]
    }
   ],
   "source": [
    "validation_generator = datagen.flow_from_directory(\n",
    "    'data/malaria-images', # same directory as training data\n",
    "    target_size=(110, 110),\n",
    "    batch_size=32,\n",
    "    class_mode='binary',\n",
    "    subset='validation') # set as validation data"
   ]
  },
  {
   "cell_type": "markdown",
   "metadata": {},
   "source": [
    "## Modeling\n",
    "\n",
    "The next few cells will demonstrate the use of a Convolutional Neural Network to classify these images.\n",
    "\n",
    "We'll have 1 model, and adjust some parameters. It's important to note that this model will be trained from scratch, and will use no transfer learning of anykind."
   ]
  },
  {
   "cell_type": "code",
   "execution_count": 14,
   "metadata": {},
   "outputs": [],
   "source": [
    "model = Sequential()\n",
    "model.add(Conv2D(32, (3,3), padding='same', input_shape=(110, 110, 3)))\n",
    "# add an activation layer with ReLU\n",
    "model.add(Activation('relu'))\n",
    "# add Dnother convolutional layer\n",
    "model.add(Conv2D(32, (3,3)))\n",
    "# add another activation layer now\n",
    "model.add(Activation('relu'))\n",
    "# perform maxPooling\n",
    "model.add(MaxPooling2D(pool_size=(2,2)))\n",
    "# finally add the dropout layer\n",
    "# add the dropout layer now, and drop out 25%\n",
    "model.add(Dropout(0.25))\n",
    "# same as before just increase kernal size by 2\n",
    "model.add(Conv2D(64, (3,3), padding='same'))\n",
    "model.add(Activation('relu'))\n",
    "model.add(Conv2D(64, (3,3)))\n",
    "model.add(Activation('relu'))\n",
    "model.add(MaxPooling2D(pool_size=(2,2)))\n",
    "model.add(Dropout(0.25))\n",
    "## our final layer bunch\n",
    "model.add(Flatten())\n",
    "model.add(Dense(512))\n",
    "model.add(Activation('relu'))\n",
    "model.add(Dropout(0.5))\n",
    "model.add(Dense(train_generator.num_classes))\n",
    "model.add(Activation('softmax'))"
   ]
  },
  {
   "cell_type": "code",
   "execution_count": 15,
   "metadata": {},
   "outputs": [
    {
     "name": "stdout",
     "output_type": "stream",
     "text": [
      "_________________________________________________________________\n",
      "Layer (type)                 Output Shape              Param #   \n",
      "=================================================================\n",
      "conv2d_5 (Conv2D)            (None, 110, 110, 32)      896       \n",
      "_________________________________________________________________\n",
      "activation_4 (Activation)    (None, 110, 110, 32)      0         \n",
      "_________________________________________________________________\n",
      "conv2d_6 (Conv2D)            (None, 108, 108, 32)      9248      \n",
      "_________________________________________________________________\n",
      "activation_5 (Activation)    (None, 108, 108, 32)      0         \n",
      "_________________________________________________________________\n",
      "max_pooling2d_3 (MaxPooling2 (None, 54, 54, 32)        0         \n",
      "_________________________________________________________________\n",
      "dropout_3 (Dropout)          (None, 54, 54, 32)        0         \n",
      "_________________________________________________________________\n",
      "conv2d_7 (Conv2D)            (None, 54, 54, 64)        18496     \n",
      "_________________________________________________________________\n",
      "activation_6 (Activation)    (None, 54, 54, 64)        0         \n",
      "_________________________________________________________________\n",
      "conv2d_8 (Conv2D)            (None, 52, 52, 64)        36928     \n",
      "_________________________________________________________________\n",
      "activation_7 (Activation)    (None, 52, 52, 64)        0         \n",
      "_________________________________________________________________\n",
      "max_pooling2d_4 (MaxPooling2 (None, 26, 26, 64)        0         \n",
      "_________________________________________________________________\n",
      "dropout_4 (Dropout)          (None, 26, 26, 64)        0         \n",
      "_________________________________________________________________\n",
      "flatten_2 (Flatten)          (None, 43264)             0         \n",
      "_________________________________________________________________\n",
      "dense_3 (Dense)              (None, 512)               22151680  \n",
      "_________________________________________________________________\n",
      "activation_8 (Activation)    (None, 512)               0         \n",
      "_________________________________________________________________\n",
      "dropout_5 (Dropout)          (None, 512)               0         \n",
      "_________________________________________________________________\n",
      "dense_4 (Dense)              (None, 2)                 1026      \n",
      "_________________________________________________________________\n",
      "activation_9 (Activation)    (None, 2)                 0         \n",
      "=================================================================\n",
      "Total params: 22,218,274\n",
      "Trainable params: 22,218,274\n",
      "Non-trainable params: 0\n",
      "_________________________________________________________________\n"
     ]
    }
   ],
   "source": [
    "model.summary()"
   ]
  },
  {
   "cell_type": "code",
   "execution_count": 16,
   "metadata": {},
   "outputs": [],
   "source": [
    "# compile, fit and evaluate\n",
    "model.compile(loss='sparse_categorical_crossentropy', optimizer=adadelta(), metrics=['accuracy'])"
   ]
  },
  {
   "cell_type": "code",
   "execution_count": 17,
   "metadata": {},
   "outputs": [
    {
     "name": "stdout",
     "output_type": "stream",
     "text": [
      "Epoch 1/10\n",
      "200/200 [==============================] - 344s 2s/step - loss: 0.6986 - acc: 0.5713 - val_loss: 0.6257 - val_acc: 0.6104\n",
      "Epoch 2/10\n",
      "200/200 [==============================] - 346s 2s/step - loss: 0.4570 - acc: 0.8262 - val_loss: 0.2698 - val_acc: 0.9219\n",
      "Epoch 3/10\n",
      "200/200 [==============================] - 383s 2s/step - loss: 0.2943 - acc: 0.9134 - val_loss: 0.4069 - val_acc: 0.9325\n",
      "Epoch 4/10\n",
      "200/200 [==============================] - 357s 2s/step - loss: 0.2567 - acc: 0.9217 - val_loss: 0.2207 - val_acc: 0.9330\n",
      "Epoch 5/10\n",
      "200/200 [==============================] - 369s 2s/step - loss: 0.2154 - acc: 0.9331 - val_loss: 0.1733 - val_acc: 0.9430\n",
      "Epoch 6/10\n",
      "200/200 [==============================] - 345s 2s/step - loss: 0.1708 - acc: 0.9497 - val_loss: 0.1857 - val_acc: 0.9410\n",
      "Epoch 7/10\n",
      "200/200 [==============================] - 374s 2s/step - loss: 0.1824 - acc: 0.9469 - val_loss: 0.1771 - val_acc: 0.9389\n",
      "Epoch 8/10\n",
      "200/200 [==============================] - 363s 2s/step - loss: 0.1781 - acc: 0.9461 - val_loss: 0.2817 - val_acc: 0.8954\n",
      "Epoch 9/10\n",
      "200/200 [==============================] - 396s 2s/step - loss: 0.1770 - acc: 0.9442 - val_loss: 0.1710 - val_acc: 0.9361\n",
      "Epoch 10/10\n",
      "200/200 [==============================] - 380s 2s/step - loss: 0.1688 - acc: 0.9480 - val_loss: 0.1673 - val_acc: 0.9454\n"
     ]
    },
    {
     "data": {
      "text/plain": [
       "<keras.callbacks.History at 0x12ba8f978>"
      ]
     },
     "execution_count": 17,
     "metadata": {},
     "output_type": "execute_result"
    }
   ],
   "source": [
    "# Fit the model on the batches generated by datagen.flow().\n",
    "model.fit_generator(train_generator, epochs=10, steps_per_epoch=200, validation_steps=200, validation_data=validation_generator, use_multiprocessing=True)"
   ]
  },
  {
   "cell_type": "code",
   "execution_count": null,
   "metadata": {},
   "outputs": [],
   "source": []
  }
 ],
 "metadata": {
  "kernelspec": {
   "display_name": "Python 3",
   "language": "python",
   "name": "python3"
  },
  "language_info": {
   "codemirror_mode": {
    "name": "ipython",
    "version": 3
   },
   "file_extension": ".py",
   "mimetype": "text/x-python",
   "name": "python",
   "nbconvert_exporter": "python",
   "pygments_lexer": "ipython3",
   "version": "3.6.7"
  }
 },
 "nbformat": 4,
 "nbformat_minor": 2
}
