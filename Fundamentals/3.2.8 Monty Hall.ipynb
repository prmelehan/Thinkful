{
 "cells": [
  {
   "cell_type": "markdown",
   "metadata": {},
   "source": [
    "# Monty Hall & Bayes' Theorem\n",
    "\n",
    "\n",
    "\n",
    "Given a choice of 3 doors, two with a goat hidden behind, one with a brand new ferrari, select a door. The probability of selecting the Ferrari is 1/3. The game show host now instructs one door to be opened which has a goat behind it. There are now two doors, the one you selected, and the door that was not opened by the game show host. He gives you the option to change doors, do you do it? You might think that there is a 50/50 shot now because now there are only 2 doors. But when the game show host opened the door, you got some info, you knew he would NEVER open the door that actually had the car. This means that your odds go up slightly, because you know that the pool has shrunk. I think we can use Bayes' rule to update our probability given new evidence. This would prove very useful, yet I am still not 100% sure on how to implement such a thing.\n",
    "\n",
    "\n"
   ]
  },
  {
   "cell_type": "code",
   "execution_count": null,
   "metadata": {},
   "outputs": [],
   "source": []
  }
 ],
 "metadata": {
  "kernelspec": {
   "display_name": "Python 3",
   "language": "python",
   "name": "python3"
  },
  "language_info": {
   "codemirror_mode": {
    "name": "ipython",
    "version": 3
   },
   "file_extension": ".py",
   "mimetype": "text/x-python",
   "name": "python",
   "nbconvert_exporter": "python",
   "pygments_lexer": "ipython3",
   "version": "3.6.6"
  }
 },
 "nbformat": 4,
 "nbformat_minor": 2
}
