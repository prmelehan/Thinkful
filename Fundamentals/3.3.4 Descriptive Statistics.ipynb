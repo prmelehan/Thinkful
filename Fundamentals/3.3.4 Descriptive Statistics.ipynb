{
 "cells": [
  {
   "cell_type": "markdown",
   "metadata": {},
   "source": [
    "# Descriptive Statistics\n",
    "\n",
    "\n",
    "Some descriptive statistics to enforce my understanding.\n"
   ]
  },
  {
   "cell_type": "markdown",
   "metadata": {},
   "source": [
    "### Distributions to be ploted:\n",
    "\n",
    "1. poisson\n",
    "\n",
    "2. logistic\n",
    "\n",
    "3. gamma\n",
    "\n",
    "4. laplace\n",
    "\n",
    "5. bionomial\n",
    "\n",
    "6. chisquare"
   ]
  },
  {
   "cell_type": "code",
   "execution_count": 2,
   "metadata": {},
   "outputs": [],
   "source": [
    "# dependencies and requirements\n",
    "import numpy as np\n",
    "import seaborn as sns\n",
    "import matplotlib.pyplot as plt"
   ]
  },
  {
   "cell_type": "code",
   "execution_count": 3,
   "metadata": {},
   "outputs": [],
   "source": [
    "%matplotlib inline"
   ]
  },
  {
   "cell_type": "code",
   "execution_count": 4,
   "metadata": {},
   "outputs": [],
   "source": [
    "# helper function\n",
    "\n",
    "def plot_distribution_helper(data):\n",
    "    plt.hist(data, bins=20, color = 'c')\n",
    "\n",
    "    # Add a vertical line at the mean.\n",
    "    plt.axvline(data.mean(), color='r', linestyle='solid', linewidth=2)\n",
    "\n",
    "    plt.axvline(np.median(data), color='r', linestyle='dashed', linewidth=1)\n",
    "    \n",
    "    # Add a vertical line at one standard deviation above the mean.\n",
    "    plt.axvline(data.mean() + data.std(), color='b', linestyle='dashed', linewidth=2)\n",
    "\n",
    "    #Add a vertical line at one standard deviation below the mean.\n",
    "    plt.axvline(data.mean() - data.std(), color='b', linestyle='dashed', linewidth=2)\n",
    "\n",
    "    "
   ]
  },
  {
   "cell_type": "markdown",
   "metadata": {},
   "source": [
    "### Poisson"
   ]
  },
  {
   "cell_type": "code",
   "execution_count": 4,
   "metadata": {
    "scrolled": true
   },
   "outputs": [
    {
     "data": {
      "image/png": "[encoded data removed]",
      "text/plain": [
       "<matplotlib.figure.Figure at 0x11b8d0c18>"
      ]
     },
     "metadata": {},
     "output_type": "display_data"
    }
   ],
   "source": [
    "poisson_distribution = np.random.poisson(lam=100, size=100)\n",
    "plot_distribution_helper(poisson_distribution)"
   ]
  },
  {
   "cell_type": "markdown",
   "metadata": {},
   "source": [
    "Seems like the distribution, as the sample of data gets bigger, the data moves towards the mean, and the standard deviation decreases. It seems that as lambda increases, and the size increases, the distribution becomes more normal in shape."
   ]
  },
  {
   "cell_type": "markdown",
   "metadata": {},
   "source": [
    "### Logistic"
   ]
  },
  {
   "cell_type": "code",
   "execution_count": 5,
   "metadata": {},
   "outputs": [
    {
     "data": {
      "image/png": "[encoded data removed]",
      "text/plain": [
       "<matplotlib.figure.Figure at 0x11ba10b00>"
      ]
     },
     "metadata": {},
     "output_type": "display_data"
    }
   ],
   "source": [
    "logistic_distribution = np.random.logistic(size=100)\n",
    "plot_distribution_helper(logistic_distribution)"
   ]
  },
  {
   "cell_type": "markdown",
   "metadata": {},
   "source": [
    "This distribution has the mean and median very close to each other, and could easily become a normal distribution if size grows. I am not quite sure though."
   ]
  },
  {
   "cell_type": "markdown",
   "metadata": {},
   "source": [
    "###  Gamma"
   ]
  },
  {
   "cell_type": "code",
   "execution_count": 6,
   "metadata": {},
   "outputs": [
    {
     "data": {
      "image/png": "[encoded data removed]",
      "text/plain": [
       "<matplotlib.figure.Figure at 0x11bb8b668>"
      ]
     },
     "metadata": {},
     "output_type": "display_data"
    }
   ],
   "source": [
    "gamma_distribution = np.random.gamma(shape=1, size=100)\n",
    "plot_distribution_helper(gamma_distribution)"
   ]
  },
  {
   "cell_type": "markdown",
   "metadata": {},
   "source": [
    "At this size there seems to be a right skew of data. I can't really see how to use the mean and median to effectively describe this data"
   ]
  },
  {
   "cell_type": "markdown",
   "metadata": {},
   "source": [
    "### Laplace"
   ]
  },
  {
   "cell_type": "code",
   "execution_count": 7,
   "metadata": {},
   "outputs": [
    {
     "data": {
      "image/png": "[encoded data removed]",
      "text/plain": [
       "<matplotlib.figure.Figure at 0x114b1a240>"
      ]
     },
     "metadata": {},
     "output_type": "display_data"
    }
   ],
   "source": [
    "laplace_distribution = np.random.laplace(size=1000)\n",
    "\n",
    "plot_distribution_helper(laplace_distribution)"
   ]
  },
  {
   "cell_type": "markdown",
   "metadata": {},
   "source": [
    "The lapace distribution seems to keep the mean and median close to each other, and the data seems to center around the median and mean. This means the mean and median can effectively describe the distribution."
   ]
  },
  {
   "cell_type": "markdown",
   "metadata": {},
   "source": [
    "### Bionomial"
   ]
  },
  {
   "cell_type": "code",
   "execution_count": 26,
   "metadata": {},
   "outputs": [
    {
     "data": {
      "image/png": "[encoded data removed]",
      "text/plain": [
       "<matplotlib.figure.Figure at 0x115355780>"
      ]
     },
     "metadata": {},
     "output_type": "display_data"
    }
   ],
   "source": [
    "binomial_distribution = np.random.binomial(n=100, p=0.5, size=100)\n",
    "\n",
    "plot_distribution_helper(binomial_distribution)"
   ]
  },
  {
   "cell_type": "markdown",
   "metadata": {},
   "source": [
    "Seems like the mean and median only differ slightly. They're pretty close together and their distribution of values roughly centers around the median and mean."
   ]
  },
  {
   "cell_type": "markdown",
   "metadata": {},
   "source": [
    "### Chisquare"
   ]
  },
  {
   "cell_type": "code",
   "execution_count": 35,
   "metadata": {},
   "outputs": [
    {
     "data": {
      "image/png": "[encoded data removed]",
      "text/plain": [
       "<matplotlib.figure.Figure at 0x1148ec710>"
      ]
     },
     "metadata": {},
     "output_type": "display_data"
    }
   ],
   "source": [
    "chisquare_distribution = np.random.chisquare(df=3, size=10000)\n",
    "plot_distribution_helper(chisquare_distribution)"
   ]
  },
  {
   "cell_type": "markdown",
   "metadata": {},
   "source": [
    "The mean and median cannot really be used to describe the distribution of data very well because of the severe right skew. I think we can use Chi Square as a goodness of fit test or what not, but I don't know why"
   ]
  },
  {
   "cell_type": "markdown",
   "metadata": {},
   "source": [
    "### Additional Tasks"
   ]
  },
  {
   "cell_type": "code",
   "execution_count": 21,
   "metadata": {},
   "outputs": [
    {
     "data": {
      "image/png": "[encoded data removed]",
      "text/plain": [
       "<matplotlib.figure.Figure at 0x11c32b7f0>"
      ]
     },
     "metadata": {},
     "output_type": "display_data"
    }
   ],
   "source": [
    "normal_distribution1 = np.random.normal(loc=10, scale=2.5, size=1000)\n",
    "normal_distribution2 = np.random.normal(loc=15, scale=5.5, size=1000)\n",
    "\n",
    "combined_distribution = normal_distribution1 + normal_distribution2\n",
    "\n",
    "plot_distribution_helper(combined_distribution)\n"
   ]
  },
  {
   "cell_type": "code",
   "execution_count": 22,
   "metadata": {},
   "outputs": [
    {
     "data": {
      "image/png": "[encoded data removed]",
      "text/plain": [
       "<matplotlib.figure.Figure at 0x11c0fe4a8>"
      ]
     },
     "metadata": {},
     "output_type": "display_data"
    }
   ],
   "source": [
    "_ = plt.hist(normal_distribution1, color='blue', alpha=0.5)\n",
    "_ = plt.hist(normal_distribution2, color='red', alpha=0.5)"
   ]
  },
  {
   "cell_type": "markdown",
   "metadata": {},
   "source": [
    "There does not seem to be too much skew, yet the graph is not normally distributed. To show this, we can our sum against norm2 in a QQ-plot"
   ]
  },
  {
   "cell_type": "code",
   "execution_count": 29,
   "metadata": {},
   "outputs": [
    {
     "data": {
      "image/png": "[encoded data removed]",
      "text/plain": [
       "<matplotlib.figure.Figure at 0x11cc03b70>"
      ]
     },
     "metadata": {},
     "output_type": "display_data"
    }
   ],
   "source": [
    "_ = plt.plot(normal_distribution2, combined_distribution, \"o\")"
   ]
  },
  {
   "cell_type": "markdown",
   "metadata": {},
   "source": [
    "It follows the upward trending pattern, but is **not** tight around the values of the `norm2`. This is cool, but I'm not sure I fully understand it."
   ]
  },
  {
   "cell_type": "code",
   "execution_count": null,
   "metadata": {},
   "outputs": [],
   "source": []
  }
 ],
 "metadata": {
  "kernelspec": {
   "display_name": "Python 3",
   "language": "python",
   "name": "python3"
  },
  "language_info": {
   "codemirror_mode": {
    "name": "ipython",
    "version": 3
   },
   "file_extension": ".py",
   "mimetype": "text/x-python",
   "name": "python",
   "nbconvert_exporter": "python",
   "pygments_lexer": "ipython3",
   "version": "3.6.6"
  }
 },
 "nbformat": 4,
 "nbformat_minor": 2
}
