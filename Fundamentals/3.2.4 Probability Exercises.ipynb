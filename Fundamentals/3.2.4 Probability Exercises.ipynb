{
 "cells": [
  {
   "cell_type": "markdown",
   "metadata": {},
   "source": [
    "# Probability\n",
    "\n",
    "Calculating the answer to a few problems.\n",
    "\n",
    "\n",
    "Notes:\n",
    "\n",
    "#### Conditional Probability\n",
    "$ P(A \\cap B) = P(A) * P(B | A) $\n",
    "\n",
    "The probability of two conditional events A and B occuring is equal to the probability of A times the probability of B, given A\n",
    "\n",
    "#### Independent Probability\n",
    "\n",
    "$ P(A \\cap B) = P(A) * P(B) $\n",
    "\n",
    "The probability of two independent events A and B occuring is equal to the probability of A occuring, times the probability of B occuring\n",
    "\n",
    "So if we had a coin flip, the probability that heads occurs is 0.5 and the probabilty that tails occurs is also 0.5. So:\n",
    "\n",
    "$ P(A \\cap B) = (0.5) * (0.5) = 0.25 = 25\\% $\n"
   ]
  },
  {
   "cell_type": "markdown",
   "metadata": {},
   "source": [
    "### Example Problems"
   ]
  },
  {
   "cell_type": "markdown",
   "metadata": {},
   "source": [
    "**Problem 1:** Calculate the probability of flipping a balanced coin four times and getting each pattern: `HTTH`, `HHHH` and `TTHH`.\n",
    "\n",
    "\n",
    "Independent Probability that coin flips equal the above values\n",
    "\n",
    "1. `HTTH` = $ 0.5^4 = 0.0625$\n",
    "2. `HHHH` = $ 0.5^4 = 0.0625$\n",
    "3. `TTHH` = $ 0.5^4 = 0.0625$\n",
    "\n",
    "\n",
    "\n",
    "**Problem 2:** List of male and female, 24 women, 21 men. What is probability of *not* selecting a male.\n",
    "\n",
    "The probability of *not* selecting a male is equal to the probability of selecting all values that are no male, so in this case, the probability of selecting a female.\n",
    "\n",
    "$ P(!M) = P(W) = (\\frac{24}{45}) = 0.533 = 53.3\\%$\n",
    "\n",
    "\n",
    "**Problem 3:** \n",
    "\n",
    "$ P(crash) = 0.00005 $\n",
    "\n",
    "$ P(flying \\ next \\ year) = 0.1 $\n",
    "\n",
    "$ P(crash \\mid flying \\ next \\ year) = 0.00005 * 0.1 = 0.000005 = 0.0005\\%$\n",
    "\n",
    "\n",
    "**Problem 4:**\n",
    "\n",
    "What is wrong is that people who use the website for longer are more likely to click more links / interact with the page, yielding a higher probability that they would receive the survey"
   ]
  },
  {
   "cell_type": "code",
   "execution_count": null,
   "metadata": {},
   "outputs": [],
   "source": []
  }
 ],
 "metadata": {
  "kernelspec": {
   "display_name": "Python 3",
   "language": "python",
   "name": "python3"
  },
  "language_info": {
   "codemirror_mode": {
    "name": "ipython",
    "version": 3
   },
   "file_extension": ".py",
   "mimetype": "text/x-python",
   "name": "python",
   "nbconvert_exporter": "python",
   "pygments_lexer": "ipython3",
   "version": "3.6.6"
  }
 },
 "nbformat": 4,
 "nbformat_minor": 2
}
