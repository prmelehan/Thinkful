{
 "cells": [
  {
   "cell_type": "markdown",
   "metadata": {},
   "source": [
    "# Hello, Neighbor\n",
    "\n",
    "The goal for this notebook is to create a Nearest Neighbor algorithm from scratch, and compare it against the SKLearn package to see if the results from our custom algorithm line up with what SKLearn produces"
   ]
  },
  {
   "cell_type": "code",
   "execution_count": 2,
   "metadata": {},
   "outputs": [],
   "source": [
    "# dependencies\n",
    "import pandas as pd\n",
    "import numpy as np\n",
    "import math"
   ]
  },
  {
   "cell_type": "code",
   "execution_count": 11,
   "metadata": {},
   "outputs": [],
   "source": [
    "class NearestNeighbor:\n",
    "    \n",
    "    def _compute_distance(self, x1, x2, y1, y2):\n",
    "        \"\"\"Computes the Euclidean distance for 2, 2d points\n",
    "        \n",
    "        Parameters\n",
    "        ----------\n",
    "        \n",
    "        x1 : float\n",
    "        \n",
    "        x2 : float\n",
    "        \n",
    "        y1 : float\n",
    "        \n",
    "        y2 : float\n",
    "        \n",
    "        \n",
    "        Returns\n",
    "        -------\n",
    "        float\n",
    "            The computed Euclidean distance between the provided points\n",
    "        \n",
    "        \"\"\"\n",
    "        return math.sqrt(((x2 - x1)**2) + ((y2 - y1)**2))\n",
    "    \n",
    "    def fit(self, features, target):\n",
    "        \"\"\"Prepares the nearest neighbor model for prediction\n",
    "        \n",
    "        Parameters\n",
    "        ----------\n",
    "        features : array-like, shape=(2,n)\n",
    "            The features of the model. There can be at most 2 features,\n",
    "            but n data points.\n",
    "        \n",
    "        target : array-like, shape=(1,n)\n",
    "            The target class of the model. There must be only 1 target column.\n",
    "            n rows much match the n rows of features.\n",
    "        \n",
    "        \"\"\"\n",
    "        features = np.array(features)\n",
    "        target = np.array(target)\n",
    "        \n",
    "        self.features = features\n",
    "        self.target = target\n",
    "    \n",
    "    def predict(self, X):\n",
    "        \"\"\" Predicts the class of `X` features.\n",
    "        \n",
    "        Parameters\n",
    "        ----------\n",
    "        X : array-like, shape=(2,)\n",
    "            The feature array. In this case, 0 represents `loudness` and 1 represents `duration`.\n",
    "        \n",
    "        Returns\n",
    "        -------\n",
    "        str\n",
    "            The predicted class label\n",
    "        \n",
    "        \"\"\"\n",
    "        \n",
    "        smallest_distance = None\n",
    "        \n",
    "        for index, row in enumerate(self.features):\n",
    "            x1 = row[0]\n",
    "            y1 = row[1]\n",
    "            \n",
    "            distance = self._compute_distance(x1=x1, x2=X[0], y1=y1, y2=X[1])\n",
    "            \n",
    "            if smallest_distance is None:\n",
    "                smallest_distance = [distance, index]\n",
    "            elif distance < smallest_distance[0]:\n",
    "                smallest_distance = [distance, index]\n",
    "        \n",
    "        \n",
    "        # grab the class label associated with the prediction\n",
    "        if smallest_distance is not None:\n",
    "            predicted_class = self.target[index]\n",
    "            return predicted_class\n",
    "            \n",
    "        else:\n",
    "            raise ValueError(\"Not enough data points to compute distance. Please fix\")\n",
    "        "
   ]
  },
  {
   "cell_type": "code",
   "execution_count": 12,
   "metadata": {},
   "outputs": [],
   "source": [
    "# some dummy data (songs)\n",
    "\n",
    "duration = [184, 134, 243, 186, 122, 197, 294, 382, 102, 264, \n",
    "                     205, 110, 307, 110, 397, 153, 190, 192, 210, 403,\n",
    "                     164, 198, 204, 253, 234, 190, 182, 401, 376, 102]\n",
    "loudness = [18, 34, 43, 36, 22, 9, 29, 22, 10, 24, \n",
    "                     20, 10, 17, 51, 7, 13, 19, 12, 21, 22,\n",
    "                     16, 18, 4, 23, 34, 19, 14, 11, 37, 42]\n",
    "# We know whether the songs in our training data are jazz or not.\n",
    "jazz = [1, 0, 0, 0, 1, 1, 0, 1, 1, 0,\n",
    "            0, 1, 1, 0, 1, 1, 0, 1, 1, 1,\n",
    "            1, 1, 1, 1, 0, 0, 1, 1, 0, 0]\n",
    "\n",
    "            \n",
    "            \n",
    "nn_model = NearestNeighbor()\n",
    "            \n",
    "nn_model.fit([duration, loudness], jazz)"
   ]
  },
  {
   "cell_type": "code",
   "execution_count": 14,
   "metadata": {},
   "outputs": [
    {
     "name": "stdout",
     "output_type": "stream",
     "text": [
      "Rock\n"
     ]
    }
   ],
   "source": [
    "# predict a value, in this case, 150 for duration, 43 for loudness\n",
    "if nn_model.predict([150, 43]) == 0:\n",
    "    print(\"Rock\")\n",
    "else:\n",
    "    print(\"Jazz\")"
   ]
  },
  {
   "cell_type": "code",
   "execution_count": null,
   "metadata": {},
   "outputs": [],
   "source": []
  }
 ],
 "metadata": {
  "kernelspec": {
   "display_name": "Python 3",
   "language": "python",
   "name": "python3"
  },
  "language_info": {
   "codemirror_mode": {
    "name": "ipython",
    "version": 3
   },
   "file_extension": ".py",
   "mimetype": "text/x-python",
   "name": "python",
   "nbconvert_exporter": "python",
   "pygments_lexer": "ipython3",
   "version": "3.6.7"
  }
 },
 "nbformat": 4,
 "nbformat_minor": 2
}
