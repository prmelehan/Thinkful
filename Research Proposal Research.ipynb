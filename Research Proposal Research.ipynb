{
 "cells": [
  {
   "cell_type": "markdown",
   "metadata": {},
   "source": [
    "# Increasing Sleep Duration using Special Sleep Juice"
   ]
  },
  {
   "cell_type": "code",
   "execution_count": 2,
   "metadata": {},
   "outputs": [
    {
     "data": {
      "text/html": [
       "<script>requirejs.config({paths: { 'plotly': ['https://cdn.plot.ly/plotly-latest.min']},});if(!window.Plotly) {{require(['plotly'],function(plotly) {window.Plotly=plotly;});}}</script>"
      ],
      "text/vnd.plotly.v1+html": [
       "<script>requirejs.config({paths: { 'plotly': ['https://cdn.plot.ly/plotly-latest.min']},});if(!window.Plotly) {{require(['plotly'],function(plotly) {window.Plotly=plotly;});}}</script>"
      ]
     },
     "metadata": {},
     "output_type": "display_data"
    }
   ],
   "source": [
    "# dependencies\n",
    "import pandas as pd\n",
    "import numpy as np\n",
    "import seaborn as sns\n",
    "import matplotlib.pyplot as plt\n",
    "import plotly\n",
    "import plotly.graph_objs as go\n",
    "\n",
    "# set plotly to offline mode\n",
    "plotly.offline.init_notebook_mode(connected=True)\n",
    "\n",
    "%matplotlib inline"
   ]
  },
  {
   "cell_type": "markdown",
   "metadata": {},
   "source": [
    "### Import our Dataset\n",
    "\n",
    "This dataset is from the iOS App \"Sleep Cycle\".\n",
    "\n",
    "As a drug company, we'd like to see if our experimental sleep juice will help people improve their quality of sleep, and duration of sleep"
   ]
  },
  {
   "cell_type": "code",
   "execution_count": 3,
   "metadata": {},
   "outputs": [],
   "source": [
    "df = pd.read_csv(\"sleepdata.csv\", delimiter=\";\")"
   ]
  },
  {
   "cell_type": "markdown",
   "metadata": {},
   "source": [
    "### Exploring the Dataset\n",
    "\n",
    "We want to identify the average sleep quality and duration as a reason for doing our research"
   ]
  },
  {
   "cell_type": "code",
   "execution_count": 4,
   "metadata": {},
   "outputs": [
    {
     "data": {
      "text/html": [
       "<div>\n",
       "<style scoped>\n",
       "    .dataframe tbody tr th:only-of-type {\n",
       "        vertical-align: middle;\n",
       "    }\n",
       "\n",
       "    .dataframe tbody tr th {\n",
       "        vertical-align: top;\n",
       "    }\n",
       "\n",
       "    .dataframe thead th {\n",
       "        text-align: right;\n",
       "    }\n",
       "</style>\n",
       "<table border=\"1\" class=\"dataframe\">\n",
       "  <thead>\n",
       "    <tr style=\"text-align: right;\">\n",
       "      <th></th>\n",
       "      <th>Start</th>\n",
       "      <th>End</th>\n",
       "      <th>Sleep quality</th>\n",
       "      <th>Time in bed</th>\n",
       "      <th>Wake up</th>\n",
       "      <th>Sleep Notes</th>\n",
       "      <th>Heart rate</th>\n",
       "      <th>Activity (steps)</th>\n",
       "    </tr>\n",
       "  </thead>\n",
       "  <tbody>\n",
       "    <tr>\n",
       "      <th>0</th>\n",
       "      <td>2014-12-29 22:57:49</td>\n",
       "      <td>2014-12-30 07:30:13</td>\n",
       "      <td>100%</td>\n",
       "      <td>8:32</td>\n",
       "      <td>:)</td>\n",
       "      <td>NaN</td>\n",
       "      <td>59.0</td>\n",
       "      <td>0</td>\n",
       "    </tr>\n",
       "    <tr>\n",
       "      <th>1</th>\n",
       "      <td>2014-12-30 21:17:50</td>\n",
       "      <td>2014-12-30 21:33:54</td>\n",
       "      <td>3%</td>\n",
       "      <td>0:16</td>\n",
       "      <td>:|</td>\n",
       "      <td>Stressful day</td>\n",
       "      <td>72.0</td>\n",
       "      <td>0</td>\n",
       "    </tr>\n",
       "    <tr>\n",
       "      <th>2</th>\n",
       "      <td>2014-12-30 22:42:49</td>\n",
       "      <td>2014-12-31 07:13:31</td>\n",
       "      <td>98%</td>\n",
       "      <td>8:30</td>\n",
       "      <td>:|</td>\n",
       "      <td>NaN</td>\n",
       "      <td>57.0</td>\n",
       "      <td>0</td>\n",
       "    </tr>\n",
       "    <tr>\n",
       "      <th>3</th>\n",
       "      <td>2014-12-31 22:31:01</td>\n",
       "      <td>2015-01-01 06:03:01</td>\n",
       "      <td>65%</td>\n",
       "      <td>7:32</td>\n",
       "      <td>NaN</td>\n",
       "      <td>NaN</td>\n",
       "      <td>NaN</td>\n",
       "      <td>0</td>\n",
       "    </tr>\n",
       "    <tr>\n",
       "      <th>4</th>\n",
       "      <td>2015-01-01 22:12:10</td>\n",
       "      <td>2015-01-02 04:56:35</td>\n",
       "      <td>72%</td>\n",
       "      <td>6:44</td>\n",
       "      <td>:)</td>\n",
       "      <td>Drank coffee:Drank tea</td>\n",
       "      <td>68.0</td>\n",
       "      <td>0</td>\n",
       "    </tr>\n",
       "  </tbody>\n",
       "</table>\n",
       "</div>"
      ],
      "text/plain": [
       "                 Start                  End Sleep quality Time in bed Wake up  \\\n",
       "0  2014-12-29 22:57:49  2014-12-30 07:30:13          100%        8:32      :)   \n",
       "1  2014-12-30 21:17:50  2014-12-30 21:33:54            3%        0:16      :|   \n",
       "2  2014-12-30 22:42:49  2014-12-31 07:13:31           98%        8:30      :|   \n",
       "3  2014-12-31 22:31:01  2015-01-01 06:03:01           65%        7:32     NaN   \n",
       "4  2015-01-01 22:12:10  2015-01-02 04:56:35           72%        6:44      :)   \n",
       "\n",
       "              Sleep Notes  Heart rate  Activity (steps)  \n",
       "0                     NaN        59.0                 0  \n",
       "1           Stressful day        72.0                 0  \n",
       "2                     NaN        57.0                 0  \n",
       "3                     NaN         NaN                 0  \n",
       "4  Drank coffee:Drank tea        68.0                 0  "
      ]
     },
     "execution_count": 4,
     "metadata": {},
     "output_type": "execute_result"
    }
   ],
   "source": [
    "df.head()"
   ]
  },
  {
   "cell_type": "markdown",
   "metadata": {},
   "source": [
    "Convert string percentages to float for graphs and other computations"
   ]
  },
  {
   "cell_type": "code",
   "execution_count": 5,
   "metadata": {},
   "outputs": [],
   "source": [
    "df[\"Sleep quality\"] = df[\"Sleep quality\"].apply(lambda datapoint: float(datapoint.strip(\"%\")) / 100)"
   ]
  },
  {
   "cell_type": "code",
   "execution_count": 6,
   "metadata": {},
   "outputs": [
    {
     "data": {
      "text/html": [
       "<div>\n",
       "<style scoped>\n",
       "    .dataframe tbody tr th:only-of-type {\n",
       "        vertical-align: middle;\n",
       "    }\n",
       "\n",
       "    .dataframe tbody tr th {\n",
       "        vertical-align: top;\n",
       "    }\n",
       "\n",
       "    .dataframe thead th {\n",
       "        text-align: right;\n",
       "    }\n",
       "</style>\n",
       "<table border=\"1\" class=\"dataframe\">\n",
       "  <thead>\n",
       "    <tr style=\"text-align: right;\">\n",
       "      <th></th>\n",
       "      <th>Sleep quality</th>\n",
       "      <th>Heart rate</th>\n",
       "      <th>Activity (steps)</th>\n",
       "    </tr>\n",
       "  </thead>\n",
       "  <tbody>\n",
       "    <tr>\n",
       "      <th>count</th>\n",
       "      <td>887.000000</td>\n",
       "      <td>162.000000</td>\n",
       "      <td>887.000000</td>\n",
       "    </tr>\n",
       "    <tr>\n",
       "      <th>mean</th>\n",
       "      <td>0.748952</td>\n",
       "      <td>60.604938</td>\n",
       "      <td>2776.378805</td>\n",
       "    </tr>\n",
       "    <tr>\n",
       "      <th>std</th>\n",
       "      <td>0.154333</td>\n",
       "      <td>7.102933</td>\n",
       "      <td>3486.482157</td>\n",
       "    </tr>\n",
       "    <tr>\n",
       "      <th>min</th>\n",
       "      <td>0.000000</td>\n",
       "      <td>49.000000</td>\n",
       "      <td>0.000000</td>\n",
       "    </tr>\n",
       "    <tr>\n",
       "      <th>25%</th>\n",
       "      <td>0.690000</td>\n",
       "      <td>57.000000</td>\n",
       "      <td>0.000000</td>\n",
       "    </tr>\n",
       "    <tr>\n",
       "      <th>50%</th>\n",
       "      <td>0.770000</td>\n",
       "      <td>60.000000</td>\n",
       "      <td>255.000000</td>\n",
       "    </tr>\n",
       "    <tr>\n",
       "      <th>75%</th>\n",
       "      <td>0.840000</td>\n",
       "      <td>64.000000</td>\n",
       "      <td>5317.000000</td>\n",
       "    </tr>\n",
       "    <tr>\n",
       "      <th>max</th>\n",
       "      <td>1.000000</td>\n",
       "      <td>98.000000</td>\n",
       "      <td>21870.000000</td>\n",
       "    </tr>\n",
       "  </tbody>\n",
       "</table>\n",
       "</div>"
      ],
      "text/plain": [
       "       Sleep quality  Heart rate  Activity (steps)\n",
       "count     887.000000  162.000000        887.000000\n",
       "mean        0.748952   60.604938       2776.378805\n",
       "std         0.154333    7.102933       3486.482157\n",
       "min         0.000000   49.000000          0.000000\n",
       "25%         0.690000   57.000000          0.000000\n",
       "50%         0.770000   60.000000        255.000000\n",
       "75%         0.840000   64.000000       5317.000000\n",
       "max         1.000000   98.000000      21870.000000"
      ]
     },
     "execution_count": 6,
     "metadata": {},
     "output_type": "execute_result"
    }
   ],
   "source": [
    "df.describe()"
   ]
  },
  {
   "cell_type": "code",
   "execution_count": 7,
   "metadata": {},
   "outputs": [
    {
     "data": {
      "text/plain": [
       "(887, 8)"
      ]
     },
     "execution_count": 7,
     "metadata": {},
     "output_type": "execute_result"
    }
   ],
   "source": [
    "df.shape"
   ]
  },
  {
   "cell_type": "markdown",
   "metadata": {},
   "source": [
    "Seems like we have 8 columns, and 887 rows to work with. Let's plot some information on sleep quality and time in bed"
   ]
  },
  {
   "cell_type": "code",
   "execution_count": 8,
   "metadata": {},
   "outputs": [
    {
     "data": {
      "text/plain": [
       "<matplotlib.axes._subplots.AxesSubplot at 0x11ccb45c0>"
      ]
     },
     "execution_count": 8,
     "metadata": {},
     "output_type": "execute_result"
    },
    {
     "data": {
      "image/png": "[encoded data removed]",
      "text/plain": [
       "<matplotlib.figure.Figure at 0x11ccb0d68>"
      ]
     },
     "metadata": {},
     "output_type": "display_data"
    }
   ],
   "source": [
    "sns.distplot(df[\"Sleep quality\"], kde=False)"
   ]
  },
  {
   "cell_type": "code",
   "execution_count": 12,
   "metadata": {},
   "outputs": [],
   "source": [
    "def convert_time_to_float(time):\n",
    "    time_components = time.split(\":\")\n",
    "    hour_component = time_components[0]\n",
    "    minute_component = time_components[1]\n",
    "    \n",
    "    percent_of_hour = int(minute_component) / 60\n",
    "    \n",
    "    new_time = int(hour_component) + (percent_of_hour)\n",
    "    \n",
    "    return float(new_time)\n",
    "\n",
    "df[\"Hours in bed\"] = df[\"Time in bed\"].apply(lambda time: convert_time_to_float(time))"
   ]
  },
  {
   "cell_type": "code",
   "execution_count": 13,
   "metadata": {},
   "outputs": [
    {
     "data": {
      "text/html": [
       "<div>\n",
       "<style scoped>\n",
       "    .dataframe tbody tr th:only-of-type {\n",
       "        vertical-align: middle;\n",
       "    }\n",
       "\n",
       "    .dataframe tbody tr th {\n",
       "        vertical-align: top;\n",
       "    }\n",
       "\n",
       "    .dataframe thead th {\n",
       "        text-align: right;\n",
       "    }\n",
       "</style>\n",
       "<table border=\"1\" class=\"dataframe\">\n",
       "  <thead>\n",
       "    <tr style=\"text-align: right;\">\n",
       "      <th></th>\n",
       "      <th>Start</th>\n",
       "      <th>End</th>\n",
       "      <th>Sleep quality</th>\n",
       "      <th>Time in bed</th>\n",
       "      <th>Wake up</th>\n",
       "      <th>Sleep Notes</th>\n",
       "      <th>Heart rate</th>\n",
       "      <th>Activity (steps)</th>\n",
       "      <th>Hours in bed</th>\n",
       "    </tr>\n",
       "  </thead>\n",
       "  <tbody>\n",
       "    <tr>\n",
       "      <th>0</th>\n",
       "      <td>2014-12-29 22:57:49</td>\n",
       "      <td>2014-12-30 07:30:13</td>\n",
       "      <td>1.00</td>\n",
       "      <td>8:32</td>\n",
       "      <td>:)</td>\n",
       "      <td>NaN</td>\n",
       "      <td>59.0</td>\n",
       "      <td>0</td>\n",
       "      <td>8.533333</td>\n",
       "    </tr>\n",
       "    <tr>\n",
       "      <th>1</th>\n",
       "      <td>2014-12-30 21:17:50</td>\n",
       "      <td>2014-12-30 21:33:54</td>\n",
       "      <td>0.03</td>\n",
       "      <td>0:16</td>\n",
       "      <td>:|</td>\n",
       "      <td>Stressful day</td>\n",
       "      <td>72.0</td>\n",
       "      <td>0</td>\n",
       "      <td>0.266667</td>\n",
       "    </tr>\n",
       "    <tr>\n",
       "      <th>2</th>\n",
       "      <td>2014-12-30 22:42:49</td>\n",
       "      <td>2014-12-31 07:13:31</td>\n",
       "      <td>0.98</td>\n",
       "      <td>8:30</td>\n",
       "      <td>:|</td>\n",
       "      <td>NaN</td>\n",
       "      <td>57.0</td>\n",
       "      <td>0</td>\n",
       "      <td>8.500000</td>\n",
       "    </tr>\n",
       "    <tr>\n",
       "      <th>3</th>\n",
       "      <td>2014-12-31 22:31:01</td>\n",
       "      <td>2015-01-01 06:03:01</td>\n",
       "      <td>0.65</td>\n",
       "      <td>7:32</td>\n",
       "      <td>NaN</td>\n",
       "      <td>NaN</td>\n",
       "      <td>NaN</td>\n",
       "      <td>0</td>\n",
       "      <td>7.533333</td>\n",
       "    </tr>\n",
       "    <tr>\n",
       "      <th>4</th>\n",
       "      <td>2015-01-01 22:12:10</td>\n",
       "      <td>2015-01-02 04:56:35</td>\n",
       "      <td>0.72</td>\n",
       "      <td>6:44</td>\n",
       "      <td>:)</td>\n",
       "      <td>Drank coffee:Drank tea</td>\n",
       "      <td>68.0</td>\n",
       "      <td>0</td>\n",
       "      <td>6.733333</td>\n",
       "    </tr>\n",
       "  </tbody>\n",
       "</table>\n",
       "</div>"
      ],
      "text/plain": [
       "                 Start                  End  Sleep quality Time in bed  \\\n",
       "0  2014-12-29 22:57:49  2014-12-30 07:30:13           1.00        8:32   \n",
       "1  2014-12-30 21:17:50  2014-12-30 21:33:54           0.03        0:16   \n",
       "2  2014-12-30 22:42:49  2014-12-31 07:13:31           0.98        8:30   \n",
       "3  2014-12-31 22:31:01  2015-01-01 06:03:01           0.65        7:32   \n",
       "4  2015-01-01 22:12:10  2015-01-02 04:56:35           0.72        6:44   \n",
       "\n",
       "  Wake up             Sleep Notes  Heart rate  Activity (steps)  Hours in bed  \n",
       "0      :)                     NaN        59.0                 0      8.533333  \n",
       "1      :|           Stressful day        72.0                 0      0.266667  \n",
       "2      :|                     NaN        57.0                 0      8.500000  \n",
       "3     NaN                     NaN         NaN                 0      7.533333  \n",
       "4      :)  Drank coffee:Drank tea        68.0                 0      6.733333  "
      ]
     },
     "execution_count": 13,
     "metadata": {},
     "output_type": "execute_result"
    }
   ],
   "source": [
    "df.head()"
   ]
  },
  {
   "cell_type": "code",
   "execution_count": 15,
   "metadata": {},
   "outputs": [
    {
     "data": {
      "text/plain": [
       "<matplotlib.axes._subplots.AxesSubplot at 0x11d2bfe80>"
      ]
     },
     "execution_count": 15,
     "metadata": {},
     "output_type": "execute_result"
    },
    {
     "data": {
      "image/png": "[encoded data removed]",
      "text/plain": [
       "<matplotlib.figure.Figure at 0x11d2bf240>"
      ]
     },
     "metadata": {},
     "output_type": "display_data"
    }
   ],
   "source": [
    "sns.scatterplot(x=\"Hours in bed\", y=\"Sleep quality\", data=df)"
   ]
  },
  {
   "cell_type": "markdown",
   "metadata": {},
   "source": [
    "## Proposed Research\n",
    "\n",
    "A scientist at our drug company sees this sleep quality data and creates a juice that he claims should help people sleep longer, and hopefully better. I decide to design the experiment and try to perform it.\n",
    "\n",
    "### Reason for Performing Test\n",
    "\n",
    "We want to verify that our scientist's drug actually performs well on tested subjects. This will give us some insight into whether this drug is worth mass producing, and bringing to market. We want a significant increase in  \n"
   ]
  },
  {
   "cell_type": "code",
   "execution_count": null,
   "metadata": {},
   "outputs": [],
   "source": []
  }
 ],
 "metadata": {
  "kernelspec": {
   "display_name": "Python 3",
   "language": "python",
   "name": "python3"
  },
  "language_info": {
   "codemirror_mode": {
    "name": "ipython",
    "version": 3
   },
   "file_extension": ".py",
   "mimetype": "text/x-python",
   "name": "python",
   "nbconvert_exporter": "python",
   "pygments_lexer": "ipython3",
   "version": "3.6.7"
  }
 },
 "nbformat": 4,
 "nbformat_minor": 2
}
